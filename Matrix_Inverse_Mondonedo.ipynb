{
 "cells": [
  {
   "cell_type": "code",
   "execution_count": 2,
   "id": "08f890fe-af4c-4351-90e5-2cd7524d8394",
   "metadata": {},
   "outputs": [],
   "source": [
    "import numpy as np"
   ]
  },
  {
   "cell_type": "markdown",
   "id": "cba96215-b1cd-4a9d-8889-371631ba0551",
   "metadata": {},
   "source": [
    "### Problem 1"
   ]
  },
  {
   "cell_type": "code",
   "execution_count": 4,
   "id": "012c1c63-4410-455b-8ed7-d33f4b4ea723",
   "metadata": {},
   "outputs": [
    {
     "name": "stdout",
     "output_type": "stream",
     "text": [
      "The inverse of matrix A:\n",
      " [[ 0.71428571 -0.57142857]\n",
      " [-0.28571429  0.42857143]]\n"
     ]
    }
   ],
   "source": [
    "#Find the inverse of the matrix (if it exists):\n",
    "A = np.array([[3,4],[2,5]])\n",
    "\n",
    "#Check if matrix A is invertible (determinant should not be zero)\n",
    "det_A = np.linalg.det(A)\n",
    "if det_A == 0:\n",
    "    print(\"Matrix A is singular and cannot be inverted!\")\n",
    "else:\n",
    "    #Find the inverse of matrix A\n",
    "    A_inv = np.linalg.inv(A)\n",
    "print(\"The inverse of matrix A:\\n\",A_inv)"
   ]
  },
  {
   "cell_type": "markdown",
   "id": "dcb97ac5-5a0e-4f96-89f0-d9db9fca8878",
   "metadata": {},
   "source": [
    "### Problem 2"
   ]
  },
  {
   "cell_type": "code",
   "execution_count": 6,
   "id": "11ef9d7c-9afd-4fa2-a861-89d4f4586f08",
   "metadata": {},
   "outputs": [
    {
     "name": "stdout",
     "output_type": "stream",
     "text": [
      "solution for [x, y]:\n",
      " [1.57142857 1.28571429]\n"
     ]
    }
   ],
   "source": [
    "#Solve the system of equations\n",
    "#Coefficient matrix\n",
    "A = np.array([[2,3],[4,-1]])\n",
    "#Constant vector\n",
    "b = np.array([7,5])\n",
    "\n",
    "\n",
    "solution = np.linalg.solve(A, b)\n",
    "print(\"solution for [x, y]:\\n\",solution)"
   ]
  },
  {
   "cell_type": "markdown",
   "id": "f72e365b-993c-45f5-89f6-37bd90f7c747",
   "metadata": {},
   "source": [
    "### Problem 3"
   ]
  },
  {
   "cell_type": "code",
   "execution_count": 8,
   "id": "6b2c26e3-666e-4b75-9358-76bab6efbd93",
   "metadata": {},
   "outputs": [
    {
     "name": "stdout",
     "output_type": "stream",
     "text": [
      "The inverse of matrix B:\n",
      " [[-24.  18.   5.]\n",
      " [ 20. -15.  -4.]\n",
      " [ -5.   4.   1.]]\n"
     ]
    }
   ],
   "source": [
    "#Given the matrix\n",
    "B = np.array([[1,2,3],[0,1,4],[5,6,0]])\n",
    "#Calculate its inverse (if possible).\n",
    "\n",
    "#Check if matrix B is invertible (determinant should not be zero)\n",
    "det_B = np.linalg.det(B)\n",
    "if det_B == 0:\n",
    "    print(\"Matrix A is singular and cannot be inverted!\")\n",
    "else:\n",
    "    #Find the inverse of matrix B\n",
    "    B_inv = np.linalg.inv(B)\n",
    "print(\"The inverse of matrix B:\\n\",B_inv)"
   ]
  },
  {
   "cell_type": "markdown",
   "id": "3936e16c-9640-4fc8-b946-1c957381544e",
   "metadata": {},
   "source": [
    "### Problem 4"
   ]
  },
  {
   "cell_type": "code",
   "execution_count": 10,
   "id": "848fc799-dc8d-4afb-b704-e5358ed7960b",
   "metadata": {},
   "outputs": [
    {
     "name": "stdout",
     "output_type": "stream",
     "text": [
      "Solution for [x, y, z]:\n",
      " [10.84210526 -5.21052632  0.36842105]\n"
     ]
    }
   ],
   "source": [
    "#Solve the system of equations using matrix inverse:\n",
    "A = np.array([[1,1,1],[2,5,1],[2,3,8]])\n",
    "#Constant vector\n",
    "b = np.array([6,-4,9])\n",
    "\n",
    "# Solve for x using matrix inverse\n",
    "if np.linalg.det(A) != 0:\n",
    "    x = np.linalg.inv(A).dot(b)\n",
    "    print(\"Solution for [x, y, z]:\\n\",x)\n",
    "else:\n",
    "    print(\"Matrix A is not invertible, no unique solution.\")"
   ]
  },
  {
   "cell_type": "markdown",
   "id": "fb272d18-9ff4-4263-babb-de9f7edd2e41",
   "metadata": {},
   "source": [
    "### Problem 5"
   ]
  },
  {
   "cell_type": "code",
   "execution_count": 12,
   "id": "3558926d-3e96-4f28-a1ed-aa09ff5304bb",
   "metadata": {},
   "outputs": [
    {
     "name": "stdout",
     "output_type": "stream",
     "text": [
      "Solution vector x:\n",
      " [  2.6   5.4 -14.4]\n"
     ]
    }
   ],
   "source": [
    "#A system of linear equations is given by the following matrix equation:\n",
    "A = np.array([[4,-1,0],[3,5,2],[-2,4,1]])\n",
    "b = np.array([5,6,2])\n",
    "\n",
    "x = np.linalg.solve(A, b)\n",
    "print(\"Solution vector x:\\n\",x)"
   ]
  }
 ],
 "metadata": {
  "kernelspec": {
   "display_name": "Python 3 (ipykernel)",
   "language": "python",
   "name": "python3"
  },
  "language_info": {
   "codemirror_mode": {
    "name": "ipython",
    "version": 3
   },
   "file_extension": ".py",
   "mimetype": "text/x-python",
   "name": "python",
   "nbconvert_exporter": "python",
   "pygments_lexer": "ipython3",
   "version": "3.12.7"
  }
 },
 "nbformat": 4,
 "nbformat_minor": 5
}
